{
  "cells": [
    {
      "cell_type": "markdown",
      "metadata": {
        "id": "p45UjNjFyoHc"
      },
      "source": [
        "# Fully connected two-layer classifier network"
      ]
    },
    {
      "cell_type": "markdown",
      "metadata": {
        "id": "xsMY2VZgywF8"
      },
      "source": [
        "## Notes\n",
        "\n",
        "* TensorFlow : *Machine learning framework* [[Link]](https://www.tensorflow.org/)\n",
        "* Keras : *High level neural networks application programming interface (API) which has been integrated into TensorFlow* [[Link]](https://keras.io/)\n",
        "\n",
        "\n",
        "* **Keras** is written in Python and uses TensorFlow as a back-end on CPUs and GPUs. It was developed with a focus on enabling fast experimentation and prototyping through user friendliness, modularity, and extensibility.\n"
      ]
    },
    {
      "cell_type": "markdown",
      "metadata": {
        "id": "HF4Lk4ZVe0Nj"
      },
      "source": [
        "## Create a fully connected two-layer classifier network in Keras"
      ]
    },
    {
      "cell_type": "markdown",
      "metadata": {
        "id": "0mIcpL6pLPvL"
      },
      "source": [
        "### Import required Python libraries\n",
        "\n"
      ]
    },
    {
      "cell_type": "code",
      "execution_count": null,
      "metadata": {
        "id": "jaV4mHBXVj2x"
      },
      "outputs": [],
      "source": [
        "import numpy as np\n",
        "import tensorflow as tf\n",
        "import matplotlib.pyplot as plt\n",
        "\n",
        "from tensorflow.keras.models import Model\n",
        "from tensorflow.keras.layers import Input, Activation\n",
        "from tensorflow.keras.layers import Dense, Dropout, Flatten\n",
        "from tensorflow.keras.optimizers import SGD\n",
        "\n"
      ]
    },
    {
      "cell_type": "markdown",
      "metadata": {
        "id": "BVMwTVUOV1KY"
      },
      "source": [
        "### Import and shape the dataset\n",
        "\n",
        "* typically the data should be pre-processed and shaped before being imported\n",
        "* typically the dataset, comprising a set of **input:ouput pairs**, is split in a **seen** dataset used for *training* and *validating* the neural network, and an **unseen** dataset used for *testing* the performance of the trained neural network with: <br>\n",
        "sklearn.model_selection.train_test_split\n",
        "* the output class of each sample needs to be **one-hot encoded** for classification applications"
      ]
    },
    {
      "cell_type": "code",
      "execution_count": null,
      "metadata": {
        "id": "lxMLelekV8xh",
        "outputId": "31c1733b-2acc-44ee-e893-b0952a9864bb",
        "colab": {
          "base_uri": "https://localhost:8080/",
          "height": 580
        }
      },
      "outputs": [
        {
          "output_type": "stream",
          "name": "stdout",
          "text": [
            "* Importing and shaping the data *\n",
            "\n",
            "input_train (original):  (60000, 28, 28)\n",
            "input_test (original):  (10000, 28, 28)\n",
            "\n",
            "input_train :  (60000, 28, 28, 1)\n",
            "output_train_class :  (60000,)\n",
            "output_train_class_onehot :  (60000, 10)\n",
            "\n",
            "input_test :  (10000, 28, 28, 1)\n",
            "output_test_class :  (10000,)\n",
            "output_test_class_onehot :  (10000, 10)\n",
            "\n",
            "output_class_names :  ['0', '1', '2', '3', '4', '5', '6', '7', '8', '9']\n",
            "\n",
            "item_id :  5\n",
            "output_train_class [item_id] :  2\n",
            "output_train_class_onehot [item_id] :  [0. 0. 1. 0. 0. 0. 0. 0. 0. 0.]\n"
          ]
        },
        {
          "output_type": "display_data",
          "data": {
            "text/plain": [
              "<Figure size 432x288 with 1 Axes>"
            ],
            "image/png": "[encoded data removed]"
          },
          "metadata": {}
        }
      ],
      "source": [
        "print('* Importing and shaping the data *')\n",
        "print()\n",
        "\n",
        "mnist = tf.keras.datasets.fashion_mnist  # load mnist dataset from tensorflow\n",
        "(input_train, output_train_class), (input_test, output_test_class) = mnist.load_data()\n",
        "\n",
        "print('input_train (original): ', input_train.shape)\n",
        "print('input_test (original): ', input_test.shape)\n",
        "print()\n",
        "\n",
        "input_train= input_train.reshape(input_train.shape[0], 28, 28, 1)  # add an extra dimension to array\n",
        "input_test= input_test.reshape(input_test.shape[0], 28, 28, 1)\n",
        "\n",
        "input_train = input_train / 255.0  # max normalise the image data[0:1]\n",
        "input_test = input_test / 255.0\n",
        "\n",
        "output_train_class_onehot = tf.keras.utils.to_categorical(output_train_class, 10)  # create one-hot encoded class\n",
        "output_test_class_onehot = tf.keras.utils.to_categorical(output_test_class, 10)\n",
        "\n",
        "output_class_names = ['0', '1', '2', '3', '4', '5', '6', '7', '8', '9']    # class names string\n",
        "\n",
        "print('input_train : ', input_train.shape)\n",
        "print('output_train_class : ', output_train_class.shape)\n",
        "print('output_train_class_onehot : ', output_train_class_onehot.shape)\n",
        "print()\n",
        "print('input_test : ', input_test.shape)\n",
        "print('output_test_class : ', output_test_class.shape)\n",
        "print('output_test_class_onehot : ', output_test_class_onehot.shape)\n",
        "print()\n",
        "print('output_class_names : ', output_class_names)\n",
        "print()\n",
        "\n",
        "item_id = 5\n",
        "\n",
        "print('item_id : ', item_id)\n",
        "print('output_train_class [item_id] : ', output_train_class[item_id])\n",
        "print('output_train_class_onehot [item_id] : ', output_train_class_onehot[item_id, :])\n",
        "\n",
        "plt.imshow(input_train[item_id, :, :, 0], cmap=plt.cm.binary)\n",
        "plt.title('input_train [' + str(item_id) + ']')\n",
        "plt.grid(None)\n",
        "plt.xticks([])\n",
        "plt.yticks([])\n",
        "plt.show()"
      ]
    },
    {
      "cell_type": "markdown",
      "metadata": {
        "id": "kgB--wW0dGPU"
      },
      "source": [
        "### Define the network hyperparameters\n",
        "\n",
        "* **hyperparameters** are the variables which determine the network structure and how the network is trained\n",
        "* structural hyperparameters: number of hidden layers, number of nodes in each layer...\n",
        "* training hyperparameters: learning rate, dropout ratio, number of epochs...\n",
        "* hyperparameters are set before training"
      ]
    },
    {
      "cell_type": "code",
      "execution_count": null,
      "metadata": {
        "id": "GdlhlPRPdZck"
      },
      "outputs": [],
      "source": [
        "loss = 'categorical_crossentropy'  # loss (cost) function to be minimised by the optimiser\n",
        "metrics = ['categorical_accuracy']  # network accuracy metric to be determined after each epoch\n",
        "dropout_ratio = 0.0  # % of nodes in the hidden layer to dropout during back-propagation update of the network weights\n",
        "validtrain_split_ratio = 0.2  # % of the seen dataset to be put aside for validation, rest is for training\n",
        "max_epochs = 40  # maxmimum number of epochs to be iterated\n",
        "batch_size = 500   # batch size for the training data set\n",
        "batch_shuffle = True   # shuffle the training data prior to batching before each epoch"
      ]
    },
    {
      "cell_type": "markdown",
      "metadata": {
        "id": "y6JHphuLcvb6"
      },
      "source": [
        "### Define the network architecture\n",
        "\n",
        "* using the Keras' *functional* model  [[Link]](https://keras.io/models/model/)\n",
        "* can also use Keras' *sequential* model but limited to simpler architectures  [[Link]](https://keras.io/models/sequential/)\n",
        "* can specify the type of each layer, for example dense (fully connected), convolutional, dropout etc. [[Link]](https://keras.io/layers/about-keras-layers/)\n",
        "* can specify the activation function to be used in each layer, for example sigmoid, relu etc. [[Link]](https://keras.io/activations/)\n",
        "* **softmax** activation, also known as *softargmax* or *normalized exponential function*, is typically used for the final layer of a classifier network to normalise its output into a probability distribution of the classes\n",
        "* network weights are typically initialised with random values\n"
      ]
    },
    {
      "cell_type": "code",
      "execution_count": null,
      "metadata": {
        "id": "TVOQwMTkdrdb"
      },
      "outputs": [],
      "source": [
        "from tensorflow.keras.utils import plot_model\n",
        "from IPython.display import Image\n",
        "\n",
        "def create_model(num_hidden_nodes, learning_rate, print_summary=False):\n",
        "\n",
        "    optimizer_type = SGD(learning_rate=learning_rate)  # optimisation algorithm: SGD stochastic gradient decent \n",
        "\n",
        "    input_shape = (28, 28, 1)\n",
        "    inputs = Input(shape=input_shape)\n",
        "\n",
        "    flatten = Flatten()(inputs)   # 784 nodes = 28x28\n",
        "\n",
        "    dense_01 = Dense(num_hidden_nodes)(flatten)\n",
        "    dense_01 = Activation('relu')(dense_01)\n",
        "    dense_01 = Dropout(dropout_ratio)(dense_01)\n",
        "\n",
        "    dense_02 = Dense(10)(dense_01)\n",
        "    outputs = Activation('softmax')(dense_02)\n",
        "\n",
        "    model = Model(inputs=inputs, outputs=outputs)\n",
        "    model.compile(optimizer=optimizer_type, loss=loss, metrics=metrics)\n",
        "\n",
        "    if print_summary:\n",
        "        print(model.summary())\n",
        "        plot_model(model, show_shapes=True, show_layer_names=True, to_file='model.png')\n",
        "\n",
        "    return model"
      ]
    },
    {
      "cell_type": "markdown",
      "metadata": {
        "id": "TvfyQk9LgaEz"
      },
      "source": [
        "### Train the neural network with 100 nodes and a learning rate of 0.01"
      ]
    },
    {
      "cell_type": "code",
      "execution_count": null,
      "metadata": {
        "id": "6OU0KVKG1Aj3",
        "outputId": "900c1827-680e-4728-8c12-c11db6b237e6",
        "colab": {
          "base_uri": "https://localhost:8080/"
        }
      },
      "outputs": [
        {
          "output_type": "stream",
          "name": "stdout",
          "text": [
            "Model: \"model_4\"\n",
            "_________________________________________________________________\n",
            " Layer (type)                Output Shape              Param #   \n",
            "=================================================================\n",
            " input_5 (InputLayer)        [(None, 28, 28, 1)]       0         \n",
            "                                                                 \n",
            " flatten_4 (Flatten)         (None, 784)               0         \n",
            "                                                                 \n",
            " dense_8 (Dense)             (None, 100)               78500     \n",
            "                                                                 \n",
            " activation_8 (Activation)   (None, 100)               0         \n",
            "                                                                 \n",
            " dropout_4 (Dropout)         (None, 100)               0         \n",
            "                                                                 \n",
            " dense_9 (Dense)             (None, 10)                1010      \n",
            "                                                                 \n",
            " activation_9 (Activation)   (None, 10)                0         \n",
            "                                                                 \n",
            "=================================================================\n",
            "Total params: 79,510\n",
            "Trainable params: 79,510\n",
            "Non-trainable params: 0\n",
            "_________________________________________________________________\n",
            "None\n"
          ]
        }
      ],
      "source": [
        "model = create_model(num_hidden_nodes=100, learning_rate=0.01, print_summary=True)"
      ]
    },
    {
      "cell_type": "code",
      "execution_count": null,
      "metadata": {
        "id": "qmXxAsVZggoD",
        "outputId": "c8369e83-feac-4ead-d2a3-8d02f37d17d9",
        "colab": {
          "base_uri": "https://localhost:8080/"
        }
      },
      "outputs": [
        {
          "output_type": "stream",
          "name": "stdout",
          "text": [
            "* Training the compiled network *\n",
            "\n",
            "Epoch 1/40\n",
            "96/96 [==============================] - 1s 8ms/step - loss: 1.7048 - categorical_accuracy: 0.4970 - val_loss: 1.2999 - val_categorical_accuracy: 0.6587\n",
            "Epoch 2/40\n",
            "96/96 [==============================] - 1s 6ms/step - loss: 1.1354 - categorical_accuracy: 0.6735 - val_loss: 1.0024 - val_categorical_accuracy: 0.6997\n",
            "Epoch 3/40\n",
            "96/96 [==============================] - 1s 7ms/step - loss: 0.9416 - categorical_accuracy: 0.7107 - val_loss: 0.8769 - val_categorical_accuracy: 0.7253\n",
            "Epoch 4/40\n",
            "96/96 [==============================] - 1s 8ms/step - loss: 0.8467 - categorical_accuracy: 0.7345 - val_loss: 0.8047 - val_categorical_accuracy: 0.7442\n",
            "Epoch 5/40\n",
            "96/96 [==============================] - 1s 7ms/step - loss: 0.7870 - categorical_accuracy: 0.7491 - val_loss: 0.7564 - val_categorical_accuracy: 0.7594\n",
            "Epoch 6/40\n",
            "96/96 [==============================] - 1s 6ms/step - loss: 0.7441 - categorical_accuracy: 0.7622 - val_loss: 0.7202 - val_categorical_accuracy: 0.7693\n",
            "Epoch 7/40\n",
            "96/96 [==============================] - 1s 7ms/step - loss: 0.7109 - categorical_accuracy: 0.7721 - val_loss: 0.6910 - val_categorical_accuracy: 0.7768\n",
            "Epoch 8/40\n",
            "96/96 [==============================] - 1s 7ms/step - loss: 0.6842 - categorical_accuracy: 0.7809 - val_loss: 0.6673 - val_categorical_accuracy: 0.7827\n",
            "Epoch 9/40\n",
            "96/96 [==============================] - 1s 7ms/step - loss: 0.6616 - categorical_accuracy: 0.7880 - val_loss: 0.6498 - val_categorical_accuracy: 0.7884\n",
            "Epoch 10/40\n",
            "96/96 [==============================] - 1s 8ms/step - loss: 0.6429 - categorical_accuracy: 0.7931 - val_loss: 0.6317 - val_categorical_accuracy: 0.7936\n",
            "Epoch 11/40\n",
            "96/96 [==============================] - 1s 9ms/step - loss: 0.6262 - categorical_accuracy: 0.7985 - val_loss: 0.6178 - val_categorical_accuracy: 0.7981\n",
            "Epoch 12/40\n",
            "96/96 [==============================] - 1s 12ms/step - loss: 0.6121 - categorical_accuracy: 0.8026 - val_loss: 0.6035 - val_categorical_accuracy: 0.8011\n",
            "Epoch 13/40\n",
            "96/96 [==============================] - 1s 14ms/step - loss: 0.5994 - categorical_accuracy: 0.8067 - val_loss: 0.5922 - val_categorical_accuracy: 0.8039\n",
            "Epoch 14/40\n",
            "96/96 [==============================] - 1s 13ms/step - loss: 0.5882 - categorical_accuracy: 0.8088 - val_loss: 0.5828 - val_categorical_accuracy: 0.8085\n",
            "Epoch 15/40\n",
            "96/96 [==============================] - 1s 9ms/step - loss: 0.5783 - categorical_accuracy: 0.8123 - val_loss: 0.5733 - val_categorical_accuracy: 0.8108\n",
            "Epoch 16/40\n",
            "96/96 [==============================] - 1s 7ms/step - loss: 0.5691 - categorical_accuracy: 0.8141 - val_loss: 0.5655 - val_categorical_accuracy: 0.8134\n",
            "Epoch 17/40\n",
            "96/96 [==============================] - 1s 8ms/step - loss: 0.5609 - categorical_accuracy: 0.8168 - val_loss: 0.5588 - val_categorical_accuracy: 0.8150\n",
            "Epoch 18/40\n",
            "96/96 [==============================] - 1s 9ms/step - loss: 0.5536 - categorical_accuracy: 0.8191 - val_loss: 0.5517 - val_categorical_accuracy: 0.8182\n",
            "Epoch 19/40\n",
            "96/96 [==============================] - 1s 7ms/step - loss: 0.5467 - categorical_accuracy: 0.8205 - val_loss: 0.5454 - val_categorical_accuracy: 0.8192\n",
            "Epoch 20/40\n",
            "96/96 [==============================] - 0s 4ms/step - loss: 0.5405 - categorical_accuracy: 0.8216 - val_loss: 0.5397 - val_categorical_accuracy: 0.8205\n",
            "Epoch 21/40\n",
            "96/96 [==============================] - 0s 4ms/step - loss: 0.5345 - categorical_accuracy: 0.8234 - val_loss: 0.5346 - val_categorical_accuracy: 0.8217\n",
            "Epoch 22/40\n",
            "96/96 [==============================] - 0s 4ms/step - loss: 0.5292 - categorical_accuracy: 0.8249 - val_loss: 0.5300 - val_categorical_accuracy: 0.8225\n",
            "Epoch 23/40\n",
            "96/96 [==============================] - 0s 4ms/step - loss: 0.5243 - categorical_accuracy: 0.8262 - val_loss: 0.5261 - val_categorical_accuracy: 0.8238\n",
            "Epoch 24/40\n",
            "96/96 [==============================] - 0s 4ms/step - loss: 0.5195 - categorical_accuracy: 0.8276 - val_loss: 0.5219 - val_categorical_accuracy: 0.8241\n",
            "Epoch 25/40\n",
            "96/96 [==============================] - 0s 4ms/step - loss: 0.5152 - categorical_accuracy: 0.8289 - val_loss: 0.5184 - val_categorical_accuracy: 0.8247\n",
            "Epoch 26/40\n",
            "96/96 [==============================] - 0s 4ms/step - loss: 0.5111 - categorical_accuracy: 0.8306 - val_loss: 0.5146 - val_categorical_accuracy: 0.8251\n",
            "Epoch 27/40\n",
            "96/96 [==============================] - 0s 4ms/step - loss: 0.5073 - categorical_accuracy: 0.8311 - val_loss: 0.5101 - val_categorical_accuracy: 0.8264\n",
            "Epoch 28/40\n",
            "96/96 [==============================] - 0s 4ms/step - loss: 0.5035 - categorical_accuracy: 0.8327 - val_loss: 0.5091 - val_categorical_accuracy: 0.8259\n",
            "Epoch 29/40\n",
            "96/96 [==============================] - 0s 4ms/step - loss: 0.5001 - categorical_accuracy: 0.8335 - val_loss: 0.5038 - val_categorical_accuracy: 0.8289\n",
            "Epoch 30/40\n",
            "96/96 [==============================] - 0s 4ms/step - loss: 0.4970 - categorical_accuracy: 0.8345 - val_loss: 0.5011 - val_categorical_accuracy: 0.8280\n",
            "Epoch 31/40\n",
            "96/96 [==============================] - 0s 4ms/step - loss: 0.4936 - categorical_accuracy: 0.8351 - val_loss: 0.4980 - val_categorical_accuracy: 0.8303\n",
            "Epoch 32/40\n",
            "96/96 [==============================] - 0s 4ms/step - loss: 0.4907 - categorical_accuracy: 0.8366 - val_loss: 0.4964 - val_categorical_accuracy: 0.8296\n",
            "Epoch 33/40\n",
            "96/96 [==============================] - 0s 4ms/step - loss: 0.4879 - categorical_accuracy: 0.8374 - val_loss: 0.4935 - val_categorical_accuracy: 0.8312\n",
            "Epoch 34/40\n",
            "96/96 [==============================] - 0s 4ms/step - loss: 0.4851 - categorical_accuracy: 0.8376 - val_loss: 0.4913 - val_categorical_accuracy: 0.8306\n",
            "Epoch 35/40\n",
            "96/96 [==============================] - 1s 5ms/step - loss: 0.4824 - categorical_accuracy: 0.8384 - val_loss: 0.4893 - val_categorical_accuracy: 0.8322\n",
            "Epoch 36/40\n",
            "96/96 [==============================] - 1s 6ms/step - loss: 0.4803 - categorical_accuracy: 0.8395 - val_loss: 0.4870 - val_categorical_accuracy: 0.8338\n",
            "Epoch 37/40\n",
            "96/96 [==============================] - 1s 7ms/step - loss: 0.4778 - categorical_accuracy: 0.8397 - val_loss: 0.4838 - val_categorical_accuracy: 0.8338\n",
            "Epoch 38/40\n",
            "96/96 [==============================] - 1s 7ms/step - loss: 0.4755 - categorical_accuracy: 0.8405 - val_loss: 0.4824 - val_categorical_accuracy: 0.8357\n",
            "Epoch 39/40\n",
            "96/96 [==============================] - 1s 7ms/step - loss: 0.4734 - categorical_accuracy: 0.8411 - val_loss: 0.4799 - val_categorical_accuracy: 0.8348\n",
            "Epoch 40/40\n",
            "96/96 [==============================] - 0s 5ms/step - loss: 0.4712 - categorical_accuracy: 0.8413 - val_loss: 0.4783 - val_categorical_accuracy: 0.8344\n",
            "\n",
            "Training completed\n",
            "\n"
          ]
        }
      ],
      "source": [
        "print('* Training the compiled network *')\n",
        "print()\n",
        "\n",
        "history = model.fit(input_train, output_train_class_onehot, \\\n",
        "                    batch_size=batch_size, \\\n",
        "                    epochs=max_epochs, \\\n",
        "                    validation_split=validtrain_split_ratio, \\\n",
        "                    shuffle=batch_shuffle)\n",
        "\n",
        "print()\n",
        "print('Training completed')\n",
        "print()"
      ]
    },
    {
      "cell_type": "markdown",
      "metadata": {
        "id": "fT1FYewGwOo6"
      },
      "source": [
        "### Plot the training history of the network\n",
        "\n",
        "* usefull for seeing the convergence of the training, oscillations of the cost function between local minima, and the presence of over fitting"
      ]
    },
    {
      "cell_type": "code",
      "execution_count": null,
      "metadata": {
        "id": "_3NEJ2AywWZh",
        "outputId": "a5054277-9b6b-4b87-ee9e-449ecaa5443e",
        "colab": {
          "base_uri": "https://localhost:8080/",
          "height": 573
        }
      },
      "outputs": [
        {
          "output_type": "display_data",
          "data": {
            "text/plain": [
              "<Figure size 432x288 with 1 Axes>"
            ],
            "image/png": "[encoded data removed]"
          },
          "metadata": {
            "needs_background": "light"
          }
        },
        {
          "output_type": "display_data",
          "data": {
            "text/plain": [
              "<Figure size 432x288 with 1 Axes>"
            ],
            "image/png": "[encoded data removed]"
          },
          "metadata": {
            "needs_background": "light"
          }
        }
      ],
      "source": [
        "# model loss\n",
        "\n",
        "plt.plot(history.history['loss'])\n",
        "plt.plot(history.history['val_loss'])\n",
        "plt.title('Model loss : ' + loss)\n",
        "plt.ylabel('Loss')\n",
        "plt.xlabel('Epoch')\n",
        "plt.legend(['Training', 'Validation'], loc='best')\n",
        "plt.show()\n",
        "plt.close()\n",
        "\n",
        "# model accuracy metric\n",
        "\n",
        "plt.plot(np.array(history.history[metrics[0]]))\n",
        "plt.plot(np.array(history.history['val_' + metrics[0]]))\n",
        "plt.title('Model accuracy metric : ' + metrics[0])\n",
        "plt.ylabel('Accuracy metric')\n",
        "plt.xlabel('Epoch')\n",
        "plt.legend(['Training', 'Validation'], loc='best')\n",
        "plt.show()\n",
        "plt.close()"
      ]
    },
    {
      "cell_type": "markdown",
      "metadata": {
        "id": "FgUczSigiDFl"
      },
      "source": [
        "### Evaluate the trained network performance on the unseen test dataset\n",
        "\n",
        "* the performance of the trained network on unseen data can be assessed using: .evaluate()"
      ]
    },
    {
      "cell_type": "code",
      "execution_count": null,
      "metadata": {
        "id": "fKV_mSM76IK2",
        "outputId": "d1e6b523-252f-433c-bc3d-97e3ebdfd090",
        "colab": {
          "base_uri": "https://localhost:8080/"
        }
      },
      "outputs": [
        {
          "output_type": "stream",
          "name": "stdout",
          "text": [
            "* Evaluating the performance of the trained network on the unseen test dataset *\n",
            "\n",
            "313/313 [==============================] - 1s 2ms/step - loss: 0.5003 - categorical_accuracy: 0.8290\n",
            "\n",
            "Accuracy - categorical_accuracy: 0.829\n",
            "Loss - categorical_crossentropy: 0.500\n"
          ]
        }
      ],
      "source": [
        "print('* Evaluating the performance of the trained network on the unseen test dataset *')\n",
        "print()\n",
        "\n",
        "evaluate_model = model.evaluate(x=input_test, y=output_test_class_onehot)\n",
        "loss_metric = evaluate_model [0]\n",
        "accuracy_metric = evaluate_model [1]\n",
        "\n",
        "print()\n",
        "print('Accuracy - ' + metrics[0] + ': %0.3f'%accuracy_metric)\n",
        "print('Loss - ' + loss + ': %0.3f'%loss_metric)"
      ]
    },
    {
      "cell_type": "markdown",
      "metadata": {
        "id": "jeMbVYzT1j48"
      },
      "source": [
        "### Train the neural network with a variable number of nodes and a learning rate of 0.1"
      ]
    },
    {
      "cell_type": "code",
      "execution_count": null,
      "metadata": {
        "id": "QsJbian51Aj7",
        "outputId": "b658e79d-5da5-4ab1-f9a7-bd8cda4aaf93",
        "colab": {
          "base_uri": "https://localhost:8080/"
        }
      },
      "outputs": [
        {
          "output_type": "stream",
          "name": "stdout",
          "text": [
            "Epoch 1/40\n",
            "96/96 [==============================] - 1s 6ms/step - loss: 1.5012 - categorical_accuracy: 0.5126 - val_loss: 0.8220 - val_categorical_accuracy: 0.7138\n",
            "Epoch 2/40\n",
            "96/96 [==============================] - 0s 4ms/step - loss: 0.7359 - categorical_accuracy: 0.7394 - val_loss: 0.6512 - val_categorical_accuracy: 0.7738\n",
            "Epoch 3/40\n",
            "96/96 [==============================] - 0s 4ms/step - loss: 0.6315 - categorical_accuracy: 0.7780 - val_loss: 0.5902 - val_categorical_accuracy: 0.7930\n",
            "Epoch 4/40\n",
            "96/96 [==============================] - 0s 4ms/step - loss: 0.5706 - categorical_accuracy: 0.7982 - val_loss: 0.5807 - val_categorical_accuracy: 0.7876\n",
            "Epoch 5/40\n",
            "96/96 [==============================] - 1s 5ms/step - loss: 0.5497 - categorical_accuracy: 0.8063 - val_loss: 0.5405 - val_categorical_accuracy: 0.8092\n",
            "Epoch 6/40\n",
            "96/96 [==============================] - 1s 9ms/step - loss: 0.5206 - categorical_accuracy: 0.8180 - val_loss: 0.5224 - val_categorical_accuracy: 0.8145\n",
            "Epoch 7/40\n",
            "96/96 [==============================] - 1s 11ms/step - loss: 0.5132 - categorical_accuracy: 0.8191 - val_loss: 0.5208 - val_categorical_accuracy: 0.8155\n",
            "Epoch 8/40\n",
            "96/96 [==============================] - 1s 12ms/step - loss: 0.4963 - categorical_accuracy: 0.8269 - val_loss: 0.4927 - val_categorical_accuracy: 0.8297\n",
            "Epoch 9/40\n",
            "96/96 [==============================] - 1s 7ms/step - loss: 0.4898 - categorical_accuracy: 0.8276 - val_loss: 0.4880 - val_categorical_accuracy: 0.8320\n",
            "Epoch 10/40\n",
            "96/96 [==============================] - 1s 9ms/step - loss: 0.4802 - categorical_accuracy: 0.8318 - val_loss: 0.4800 - val_categorical_accuracy: 0.8353\n",
            "Epoch 11/40\n",
            "96/96 [==============================] - 0s 4ms/step - loss: 0.4688 - categorical_accuracy: 0.8370 - val_loss: 0.4851 - val_categorical_accuracy: 0.8306\n",
            "Epoch 12/40\n",
            "96/96 [==============================] - 0s 4ms/step - loss: 0.4701 - categorical_accuracy: 0.8362 - val_loss: 0.4883 - val_categorical_accuracy: 0.8296\n",
            "Epoch 13/40\n",
            "96/96 [==============================] - 1s 6ms/step - loss: 0.4652 - categorical_accuracy: 0.8375 - val_loss: 0.4728 - val_categorical_accuracy: 0.8396\n",
            "Epoch 14/40\n",
            "96/96 [==============================] - 1s 5ms/step - loss: 0.4554 - categorical_accuracy: 0.8413 - val_loss: 0.4619 - val_categorical_accuracy: 0.8409\n",
            "Epoch 15/40\n",
            "96/96 [==============================] - 0s 4ms/step - loss: 0.4511 - categorical_accuracy: 0.8429 - val_loss: 0.4639 - val_categorical_accuracy: 0.8393\n",
            "Epoch 16/40\n",
            "96/96 [==============================] - 0s 5ms/step - loss: 0.4498 - categorical_accuracy: 0.8432 - val_loss: 0.4570 - val_categorical_accuracy: 0.8443\n",
            "Epoch 17/40\n",
            "96/96 [==============================] - 1s 5ms/step - loss: 0.4486 - categorical_accuracy: 0.8429 - val_loss: 0.4638 - val_categorical_accuracy: 0.8366\n",
            "Epoch 18/40\n",
            "96/96 [==============================] - 1s 6ms/step - loss: 0.4422 - categorical_accuracy: 0.8448 - val_loss: 0.4733 - val_categorical_accuracy: 0.8317\n",
            "Epoch 19/40\n",
            "96/96 [==============================] - 0s 4ms/step - loss: 0.4437 - categorical_accuracy: 0.8447 - val_loss: 0.4636 - val_categorical_accuracy: 0.8363\n",
            "Epoch 20/40\n",
            "96/96 [==============================] - 0s 5ms/step - loss: 0.4417 - categorical_accuracy: 0.8456 - val_loss: 0.4642 - val_categorical_accuracy: 0.8343\n",
            "Epoch 21/40\n",
            "96/96 [==============================] - 0s 5ms/step - loss: 0.4360 - categorical_accuracy: 0.8472 - val_loss: 0.4522 - val_categorical_accuracy: 0.8400\n",
            "Epoch 22/40\n",
            "96/96 [==============================] - 1s 7ms/step - loss: 0.4325 - categorical_accuracy: 0.8492 - val_loss: 0.4563 - val_categorical_accuracy: 0.8412\n",
            "Epoch 23/40\n",
            "96/96 [==============================] - 0s 5ms/step - loss: 0.4325 - categorical_accuracy: 0.8490 - val_loss: 0.4469 - val_categorical_accuracy: 0.8451\n",
            "Epoch 24/40\n",
            "96/96 [==============================] - 0s 4ms/step - loss: 0.4288 - categorical_accuracy: 0.8509 - val_loss: 0.4528 - val_categorical_accuracy: 0.8419\n",
            "Epoch 25/40\n",
            "96/96 [==============================] - 0s 4ms/step - loss: 0.4273 - categorical_accuracy: 0.8501 - val_loss: 0.4543 - val_categorical_accuracy: 0.8385\n",
            "Epoch 26/40\n",
            "96/96 [==============================] - 1s 10ms/step - loss: 0.4228 - categorical_accuracy: 0.8518 - val_loss: 0.4392 - val_categorical_accuracy: 0.8453\n",
            "Epoch 27/40\n",
            "96/96 [==============================] - 1s 12ms/step - loss: 0.4268 - categorical_accuracy: 0.8515 - val_loss: 0.4391 - val_categorical_accuracy: 0.8447\n",
            "Epoch 28/40\n",
            "96/96 [==============================] - 1s 12ms/step - loss: 0.4299 - categorical_accuracy: 0.8487 - val_loss: 0.4384 - val_categorical_accuracy: 0.8497\n",
            "Epoch 29/40\n",
            "96/96 [==============================] - 1s 7ms/step - loss: 0.4185 - categorical_accuracy: 0.8528 - val_loss: 0.4410 - val_categorical_accuracy: 0.8428\n",
            "Epoch 30/40\n",
            "96/96 [==============================] - 1s 7ms/step - loss: 0.4226 - categorical_accuracy: 0.8515 - val_loss: 0.4369 - val_categorical_accuracy: 0.8457\n",
            "Epoch 31/40\n",
            "96/96 [==============================] - 1s 8ms/step - loss: 0.4186 - categorical_accuracy: 0.8522 - val_loss: 0.4391 - val_categorical_accuracy: 0.8432\n",
            "Epoch 32/40\n",
            "96/96 [==============================] - 1s 9ms/step - loss: 0.4137 - categorical_accuracy: 0.8535 - val_loss: 0.4387 - val_categorical_accuracy: 0.8434\n",
            "Epoch 33/40\n",
            "96/96 [==============================] - 1s 6ms/step - loss: 0.4155 - categorical_accuracy: 0.8530 - val_loss: 0.4425 - val_categorical_accuracy: 0.8434\n",
            "Epoch 34/40\n",
            "96/96 [==============================] - 0s 4ms/step - loss: 0.4155 - categorical_accuracy: 0.8537 - val_loss: 0.4316 - val_categorical_accuracy: 0.8501\n",
            "Epoch 35/40\n",
            "96/96 [==============================] - 0s 4ms/step - loss: 0.4131 - categorical_accuracy: 0.8532 - val_loss: 0.4359 - val_categorical_accuracy: 0.8487\n",
            "Epoch 36/40\n",
            "96/96 [==============================] - 0s 4ms/step - loss: 0.4076 - categorical_accuracy: 0.8571 - val_loss: 0.4333 - val_categorical_accuracy: 0.8482\n",
            "Epoch 37/40\n",
            "96/96 [==============================] - 0s 4ms/step - loss: 0.4107 - categorical_accuracy: 0.8556 - val_loss: 0.4268 - val_categorical_accuracy: 0.8499\n",
            "Epoch 38/40\n",
            "96/96 [==============================] - 1s 5ms/step - loss: 0.4070 - categorical_accuracy: 0.8571 - val_loss: 0.4445 - val_categorical_accuracy: 0.8438\n",
            "Epoch 39/40\n",
            "96/96 [==============================] - 1s 8ms/step - loss: 0.4101 - categorical_accuracy: 0.8551 - val_loss: 0.4260 - val_categorical_accuracy: 0.8496\n",
            "Epoch 40/40\n",
            "96/96 [==============================] - 1s 7ms/step - loss: 0.4043 - categorical_accuracy: 0.8585 - val_loss: 0.4372 - val_categorical_accuracy: 0.8481\n",
            "Epoch 1/40\n",
            "96/96 [==============================] - 1s 7ms/step - loss: 0.8941 - categorical_accuracy: 0.7117 - val_loss: 0.6591 - val_categorical_accuracy: 0.7782\n",
            "Epoch 2/40\n",
            "96/96 [==============================] - 0s 4ms/step - loss: 0.6073 - categorical_accuracy: 0.7942 - val_loss: 0.6012 - val_categorical_accuracy: 0.7760\n",
            "Epoch 3/40\n",
            "96/96 [==============================] - 0s 4ms/step - loss: 0.5356 - categorical_accuracy: 0.8171 - val_loss: 0.5110 - val_categorical_accuracy: 0.8202\n",
            "Epoch 4/40\n",
            "96/96 [==============================] - 0s 4ms/step - loss: 0.4979 - categorical_accuracy: 0.8278 - val_loss: 0.4771 - val_categorical_accuracy: 0.8337\n",
            "Epoch 5/40\n",
            "96/96 [==============================] - 0s 4ms/step - loss: 0.4718 - categorical_accuracy: 0.8381 - val_loss: 0.4864 - val_categorical_accuracy: 0.8313\n",
            "Epoch 6/40\n",
            "96/96 [==============================] - 0s 4ms/step - loss: 0.4517 - categorical_accuracy: 0.8441 - val_loss: 0.4519 - val_categorical_accuracy: 0.8436\n",
            "Epoch 7/40\n",
            "96/96 [==============================] - 0s 4ms/step - loss: 0.4427 - categorical_accuracy: 0.8472 - val_loss: 0.4352 - val_categorical_accuracy: 0.8478\n",
            "Epoch 8/40\n",
            "96/96 [==============================] - 0s 4ms/step - loss: 0.4287 - categorical_accuracy: 0.8532 - val_loss: 0.4264 - val_categorical_accuracy: 0.8527\n",
            "Epoch 9/40\n",
            "96/96 [==============================] - 0s 4ms/step - loss: 0.4163 - categorical_accuracy: 0.8557 - val_loss: 0.4142 - val_categorical_accuracy: 0.8559\n",
            "Epoch 10/40\n",
            "96/96 [==============================] - 0s 4ms/step - loss: 0.4110 - categorical_accuracy: 0.8564 - val_loss: 0.4091 - val_categorical_accuracy: 0.8571\n",
            "Epoch 11/40\n",
            "96/96 [==============================] - 0s 4ms/step - loss: 0.4000 - categorical_accuracy: 0.8609 - val_loss: 0.4073 - val_categorical_accuracy: 0.8565\n",
            "Epoch 12/40\n",
            "96/96 [==============================] - 0s 4ms/step - loss: 0.3892 - categorical_accuracy: 0.8661 - val_loss: 0.4176 - val_categorical_accuracy: 0.8545\n",
            "Epoch 13/40\n",
            "96/96 [==============================] - 0s 4ms/step - loss: 0.3824 - categorical_accuracy: 0.8681 - val_loss: 0.3950 - val_categorical_accuracy: 0.8618\n",
            "Epoch 14/40\n",
            "96/96 [==============================] - 0s 4ms/step - loss: 0.3787 - categorical_accuracy: 0.8677 - val_loss: 0.3934 - val_categorical_accuracy: 0.8623\n",
            "Epoch 15/40\n",
            "96/96 [==============================] - 0s 4ms/step - loss: 0.3753 - categorical_accuracy: 0.8687 - val_loss: 0.3863 - val_categorical_accuracy: 0.8660\n",
            "Epoch 16/40\n",
            "96/96 [==============================] - 0s 4ms/step - loss: 0.3663 - categorical_accuracy: 0.8726 - val_loss: 0.3876 - val_categorical_accuracy: 0.8650\n",
            "Epoch 17/40\n",
            "96/96 [==============================] - 0s 4ms/step - loss: 0.3628 - categorical_accuracy: 0.8732 - val_loss: 0.3845 - val_categorical_accuracy: 0.8655\n",
            "Epoch 18/40\n",
            "96/96 [==============================] - 0s 4ms/step - loss: 0.3542 - categorical_accuracy: 0.8769 - val_loss: 0.3777 - val_categorical_accuracy: 0.8658\n",
            "Epoch 19/40\n",
            "96/96 [==============================] - 0s 4ms/step - loss: 0.3522 - categorical_accuracy: 0.8761 - val_loss: 0.3712 - val_categorical_accuracy: 0.8690\n",
            "Epoch 20/40\n",
            "96/96 [==============================] - 0s 4ms/step - loss: 0.3508 - categorical_accuracy: 0.8780 - val_loss: 0.3694 - val_categorical_accuracy: 0.8680\n",
            "Epoch 21/40\n",
            "96/96 [==============================] - 0s 5ms/step - loss: 0.3424 - categorical_accuracy: 0.8797 - val_loss: 0.3721 - val_categorical_accuracy: 0.8690\n",
            "Epoch 22/40\n",
            "96/96 [==============================] - 1s 6ms/step - loss: 0.3384 - categorical_accuracy: 0.8815 - val_loss: 0.3602 - val_categorical_accuracy: 0.8723\n",
            "Epoch 23/40\n",
            "96/96 [==============================] - 1s 7ms/step - loss: 0.3385 - categorical_accuracy: 0.8816 - val_loss: 0.3617 - val_categorical_accuracy: 0.8720\n",
            "Epoch 24/40\n",
            "96/96 [==============================] - 1s 6ms/step - loss: 0.3332 - categorical_accuracy: 0.8824 - val_loss: 0.3544 - val_categorical_accuracy: 0.8742\n",
            "Epoch 25/40\n",
            "96/96 [==============================] - 1s 6ms/step - loss: 0.3279 - categorical_accuracy: 0.8855 - val_loss: 0.3591 - val_categorical_accuracy: 0.8733\n",
            "Epoch 26/40\n",
            "96/96 [==============================] - 1s 5ms/step - loss: 0.3260 - categorical_accuracy: 0.8852 - val_loss: 0.3579 - val_categorical_accuracy: 0.8742\n",
            "Epoch 27/40\n",
            "96/96 [==============================] - 0s 4ms/step - loss: 0.3228 - categorical_accuracy: 0.8863 - val_loss: 0.3515 - val_categorical_accuracy: 0.8765\n",
            "Epoch 28/40\n",
            "96/96 [==============================] - 0s 4ms/step - loss: 0.3209 - categorical_accuracy: 0.8872 - val_loss: 0.3532 - val_categorical_accuracy: 0.8743\n",
            "Epoch 29/40\n",
            "96/96 [==============================] - 0s 4ms/step - loss: 0.3190 - categorical_accuracy: 0.8883 - val_loss: 0.3585 - val_categorical_accuracy: 0.8713\n",
            "Epoch 30/40\n",
            "96/96 [==============================] - 0s 4ms/step - loss: 0.3138 - categorical_accuracy: 0.8888 - val_loss: 0.3526 - val_categorical_accuracy: 0.8749\n",
            "Epoch 31/40\n",
            "96/96 [==============================] - 0s 5ms/step - loss: 0.3105 - categorical_accuracy: 0.8907 - val_loss: 0.3482 - val_categorical_accuracy: 0.8753\n",
            "Epoch 32/40\n",
            "96/96 [==============================] - 0s 4ms/step - loss: 0.3084 - categorical_accuracy: 0.8903 - val_loss: 0.3414 - val_categorical_accuracy: 0.8813\n",
            "Epoch 33/40\n",
            "96/96 [==============================] - 0s 4ms/step - loss: 0.3062 - categorical_accuracy: 0.8920 - val_loss: 0.3621 - val_categorical_accuracy: 0.8729\n",
            "Epoch 34/40\n",
            "96/96 [==============================] - 0s 5ms/step - loss: 0.3003 - categorical_accuracy: 0.8946 - val_loss: 0.3514 - val_categorical_accuracy: 0.8740\n",
            "Epoch 35/40\n",
            "96/96 [==============================] - 0s 4ms/step - loss: 0.3015 - categorical_accuracy: 0.8937 - val_loss: 0.3357 - val_categorical_accuracy: 0.8811\n",
            "Epoch 36/40\n",
            "96/96 [==============================] - 0s 5ms/step - loss: 0.2988 - categorical_accuracy: 0.8939 - val_loss: 0.3338 - val_categorical_accuracy: 0.8828\n",
            "Epoch 37/40\n",
            "96/96 [==============================] - 0s 4ms/step - loss: 0.2922 - categorical_accuracy: 0.8976 - val_loss: 0.3333 - val_categorical_accuracy: 0.8810\n",
            "Epoch 38/40\n",
            "96/96 [==============================] - 0s 4ms/step - loss: 0.2933 - categorical_accuracy: 0.8966 - val_loss: 0.3359 - val_categorical_accuracy: 0.8807\n",
            "Epoch 39/40\n",
            "96/96 [==============================] - 0s 4ms/step - loss: 0.2926 - categorical_accuracy: 0.8966 - val_loss: 0.3357 - val_categorical_accuracy: 0.8813\n",
            "Epoch 40/40\n",
            "96/96 [==============================] - 0s 4ms/step - loss: 0.2904 - categorical_accuracy: 0.8971 - val_loss: 0.3313 - val_categorical_accuracy: 0.8817\n"
          ]
        }
      ],
      "source": [
        "#Fix the learning rate at 0.1 and change the number of nodes in the hidden layer from 10 to 10000. Plot the trained and validation network accuracy vs. the number of nodes.\n",
        "learning_rate_1 = 0.1\n",
        "num_hidden_nodes_1 = [x for x in range(10, 10000, 500)]\n",
        "accuracy_1 = []\n",
        "for i in num_hidden_nodes_1:\n",
        "    model = create_model(num_hidden_nodes=i, learning_rate=learning_rate_1)\n",
        "    history = model.fit(input_train, output_train_class_onehot, \\\n",
        "                    batch_size=batch_size, \\\n",
        "                    epochs=max_epochs, \\\n",
        "                    validation_split=validtrain_split_ratio, \\\n",
        "                    shuffle=batch_shuffle)\n",
        "    accuracy_1.append(history.history['val_categorical_accuracy_1'][-1])"
      ]
    },
    {
      "cell_type": "code",
      "execution_count": null,
      "metadata": {
        "id": "MPULMVdI1Aj7"
      },
      "outputs": [],
      "source": [
        "plt.plot(num_hidden_nodes_1, accuracy_1)\n",
        "plt.title('Model accuracy_1 metric : ' + metrics[0])\n",
        "plt.ylabel('Accuracy metric')\n",
        "plt.xlabel('Number of nodes')\n",
        "plt.xscale('log')\n",
        "plt.legend(['Validation'], loc='best')\n",
        "plt.show()"
      ]
    },
    {
      "cell_type": "markdown",
      "metadata": {
        "id": "NxGr_59Y1Aj8"
      },
      "source": [
        "### Train the neural network with 500 nodes and a variable learning rate"
      ]
    },
    {
      "cell_type": "code",
      "execution_count": null,
      "metadata": {
        "id": "Mm_76kO01Aj8",
        "outputId": "1469ba67-7f6a-4f6b-e46e-7655c26a5bcd",
        "colab": {
          "base_uri": "https://localhost:8080/"
        }
      },
      "outputs": [
        {
          "output_type": "stream",
          "name": "stdout",
          "text": [
            "Epoch 1/40\n",
            "96/96 [==============================] - 1s 7ms/step - loss: 1.6141 - categorical_accuracy: 0.5339 - val_loss: 1.1847 - val_categorical_accuracy: 0.6778\n",
            "Epoch 2/40\n",
            "96/96 [==============================] - 0s 4ms/step - loss: 1.0490 - categorical_accuracy: 0.6872 - val_loss: 0.9325 - val_categorical_accuracy: 0.7098\n",
            "Epoch 3/40\n",
            "96/96 [==============================] - 0s 5ms/step - loss: 0.8841 - categorical_accuracy: 0.7216 - val_loss: 0.8267 - val_categorical_accuracy: 0.7383\n",
            "Epoch 4/40\n",
            "96/96 [==============================] - 0s 4ms/step - loss: 0.8009 - categorical_accuracy: 0.7436 - val_loss: 0.7629 - val_categorical_accuracy: 0.7563\n",
            "Epoch 5/40\n",
            "96/96 [==============================] - 1s 6ms/step - loss: 0.7473 - categorical_accuracy: 0.7591 - val_loss: 0.7212 - val_categorical_accuracy: 0.7621\n",
            "Epoch 6/40\n",
            "96/96 [==============================] - 1s 6ms/step - loss: 0.7085 - categorical_accuracy: 0.7719 - val_loss: 0.6868 - val_categorical_accuracy: 0.7734\n",
            "Epoch 7/40\n",
            "96/96 [==============================] - 1s 7ms/step - loss: 0.6786 - categorical_accuracy: 0.7805 - val_loss: 0.6610 - val_categorical_accuracy: 0.7836\n",
            "Epoch 8/40\n",
            "96/96 [==============================] - 1s 6ms/step - loss: 0.6545 - categorical_accuracy: 0.7889 - val_loss: 0.6395 - val_categorical_accuracy: 0.7920\n",
            "Epoch 9/40\n",
            "96/96 [==============================] - 0s 5ms/step - loss: 0.6343 - categorical_accuracy: 0.7951 - val_loss: 0.6222 - val_categorical_accuracy: 0.7965\n",
            "Epoch 10/40\n",
            "96/96 [==============================] - 0s 4ms/step - loss: 0.6172 - categorical_accuracy: 0.8005 - val_loss: 0.6073 - val_categorical_accuracy: 0.8008\n",
            "Epoch 11/40\n",
            "96/96 [==============================] - 0s 4ms/step - loss: 0.6025 - categorical_accuracy: 0.8052 - val_loss: 0.5948 - val_categorical_accuracy: 0.8044\n",
            "Epoch 12/40\n",
            "96/96 [==============================] - 0s 4ms/step - loss: 0.5897 - categorical_accuracy: 0.8095 - val_loss: 0.5833 - val_categorical_accuracy: 0.8067\n",
            "Epoch 13/40\n",
            "96/96 [==============================] - 0s 4ms/step - loss: 0.5782 - categorical_accuracy: 0.8130 - val_loss: 0.5730 - val_categorical_accuracy: 0.8099\n",
            "Epoch 14/40\n",
            "96/96 [==============================] - 0s 5ms/step - loss: 0.5682 - categorical_accuracy: 0.8158 - val_loss: 0.5638 - val_categorical_accuracy: 0.8139\n",
            "Epoch 15/40\n",
            "96/96 [==============================] - 0s 4ms/step - loss: 0.5591 - categorical_accuracy: 0.8186 - val_loss: 0.5558 - val_categorical_accuracy: 0.8148\n",
            "Epoch 16/40\n",
            "96/96 [==============================] - 0s 4ms/step - loss: 0.5506 - categorical_accuracy: 0.8200 - val_loss: 0.5486 - val_categorical_accuracy: 0.8169\n",
            "Epoch 17/40\n",
            "96/96 [==============================] - 0s 4ms/step - loss: 0.5433 - categorical_accuracy: 0.8226 - val_loss: 0.5423 - val_categorical_accuracy: 0.8181\n",
            "Epoch 18/40\n",
            "96/96 [==============================] - 1s 5ms/step - loss: 0.5365 - categorical_accuracy: 0.8241 - val_loss: 0.5377 - val_categorical_accuracy: 0.8188\n",
            "Epoch 19/40\n",
            "96/96 [==============================] - 0s 4ms/step - loss: 0.5302 - categorical_accuracy: 0.8261 - val_loss: 0.5302 - val_categorical_accuracy: 0.8216\n",
            "Epoch 20/40\n",
            "96/96 [==============================] - 0s 4ms/step - loss: 0.5242 - categorical_accuracy: 0.8280 - val_loss: 0.5255 - val_categorical_accuracy: 0.8242\n",
            "Epoch 21/40\n",
            "96/96 [==============================] - 0s 4ms/step - loss: 0.5187 - categorical_accuracy: 0.8290 - val_loss: 0.5218 - val_categorical_accuracy: 0.8229\n",
            "Epoch 22/40\n",
            "96/96 [==============================] - 0s 4ms/step - loss: 0.5138 - categorical_accuracy: 0.8299 - val_loss: 0.5152 - val_categorical_accuracy: 0.8272\n",
            "Epoch 23/40\n",
            "96/96 [==============================] - 0s 4ms/step - loss: 0.5092 - categorical_accuracy: 0.8314 - val_loss: 0.5110 - val_categorical_accuracy: 0.8282\n",
            "Epoch 24/40\n",
            "96/96 [==============================] - 0s 4ms/step - loss: 0.5046 - categorical_accuracy: 0.8317 - val_loss: 0.5082 - val_categorical_accuracy: 0.8267\n",
            "Epoch 25/40\n",
            "96/96 [==============================] - 0s 4ms/step - loss: 0.5004 - categorical_accuracy: 0.8336 - val_loss: 0.5039 - val_categorical_accuracy: 0.8292\n",
            "Epoch 26/40\n",
            "96/96 [==============================] - 0s 4ms/step - loss: 0.4964 - categorical_accuracy: 0.8348 - val_loss: 0.5014 - val_categorical_accuracy: 0.8292\n",
            "Epoch 27/40\n",
            "96/96 [==============================] - 0s 5ms/step - loss: 0.4924 - categorical_accuracy: 0.8360 - val_loss: 0.4979 - val_categorical_accuracy: 0.8317\n",
            "Epoch 28/40\n",
            "96/96 [==============================] - 0s 4ms/step - loss: 0.4892 - categorical_accuracy: 0.8362 - val_loss: 0.4948 - val_categorical_accuracy: 0.8309\n",
            "Epoch 29/40\n",
            "96/96 [==============================] - 0s 4ms/step - loss: 0.4859 - categorical_accuracy: 0.8378 - val_loss: 0.4905 - val_categorical_accuracy: 0.8328\n",
            "Epoch 30/40\n",
            "96/96 [==============================] - 0s 4ms/step - loss: 0.4826 - categorical_accuracy: 0.8380 - val_loss: 0.4881 - val_categorical_accuracy: 0.8337\n",
            "Epoch 31/40\n",
            "96/96 [==============================] - 0s 4ms/step - loss: 0.4795 - categorical_accuracy: 0.8395 - val_loss: 0.4863 - val_categorical_accuracy: 0.8342\n",
            "Epoch 32/40\n",
            "96/96 [==============================] - 1s 6ms/step - loss: 0.4767 - categorical_accuracy: 0.8401 - val_loss: 0.4835 - val_categorical_accuracy: 0.8358\n",
            "Epoch 33/40\n",
            "96/96 [==============================] - 1s 6ms/step - loss: 0.4741 - categorical_accuracy: 0.8407 - val_loss: 0.4799 - val_categorical_accuracy: 0.8366\n",
            "Epoch 34/40\n",
            "96/96 [==============================] - 1s 7ms/step - loss: 0.4716 - categorical_accuracy: 0.8415 - val_loss: 0.4778 - val_categorical_accuracy: 0.8363\n",
            "Epoch 35/40\n",
            "96/96 [==============================] - 1s 6ms/step - loss: 0.4688 - categorical_accuracy: 0.8423 - val_loss: 0.4754 - val_categorical_accuracy: 0.8378\n",
            "Epoch 36/40\n",
            "96/96 [==============================] - 0s 5ms/step - loss: 0.4664 - categorical_accuracy: 0.8428 - val_loss: 0.4735 - val_categorical_accuracy: 0.8382\n",
            "Epoch 37/40\n",
            "96/96 [==============================] - 0s 4ms/step - loss: 0.4639 - categorical_accuracy: 0.8432 - val_loss: 0.4720 - val_categorical_accuracy: 0.8379\n",
            "Epoch 38/40\n",
            "96/96 [==============================] - 0s 5ms/step - loss: 0.4618 - categorical_accuracy: 0.8445 - val_loss: 0.4697 - val_categorical_accuracy: 0.8392\n",
            "Epoch 39/40\n",
            "96/96 [==============================] - 0s 4ms/step - loss: 0.4597 - categorical_accuracy: 0.8449 - val_loss: 0.4676 - val_categorical_accuracy: 0.8390\n",
            "Epoch 40/40\n",
            "96/96 [==============================] - 0s 4ms/step - loss: 0.4574 - categorical_accuracy: 0.8458 - val_loss: 0.4651 - val_categorical_accuracy: 0.8399\n",
            "Epoch 1/40\n",
            "96/96 [==============================] - 1s 6ms/step - loss: 0.8909 - categorical_accuracy: 0.7121 - val_loss: 0.6458 - val_categorical_accuracy: 0.7699\n",
            "Epoch 2/40\n",
            "96/96 [==============================] - 0s 4ms/step - loss: 0.6105 - categorical_accuracy: 0.7961 - val_loss: 0.5548 - val_categorical_accuracy: 0.8137\n",
            "Epoch 3/40\n",
            "96/96 [==============================] - 0s 4ms/step - loss: 0.5389 - categorical_accuracy: 0.8162 - val_loss: 0.5891 - val_categorical_accuracy: 0.7821\n",
            "Epoch 4/40\n",
            "96/96 [==============================] - 0s 4ms/step - loss: 0.5050 - categorical_accuracy: 0.8269 - val_loss: 0.5110 - val_categorical_accuracy: 0.8229\n",
            "Epoch 5/40\n",
            "96/96 [==============================] - 0s 4ms/step - loss: 0.4797 - categorical_accuracy: 0.8347 - val_loss: 0.5124 - val_categorical_accuracy: 0.8223\n",
            "Epoch 6/40\n",
            "96/96 [==============================] - 0s 4ms/step - loss: 0.4567 - categorical_accuracy: 0.8419 - val_loss: 0.4646 - val_categorical_accuracy: 0.8410\n",
            "Epoch 7/40\n",
            "96/96 [==============================] - 0s 4ms/step - loss: 0.4472 - categorical_accuracy: 0.8450 - val_loss: 0.4414 - val_categorical_accuracy: 0.8472\n",
            "Epoch 8/40\n",
            "96/96 [==============================] - 0s 4ms/step - loss: 0.4280 - categorical_accuracy: 0.8510 - val_loss: 0.4383 - val_categorical_accuracy: 0.8452\n",
            "Epoch 9/40\n",
            "96/96 [==============================] - 0s 4ms/step - loss: 0.4218 - categorical_accuracy: 0.8536 - val_loss: 0.4256 - val_categorical_accuracy: 0.8501\n",
            "Epoch 10/40\n",
            "96/96 [==============================] - 0s 4ms/step - loss: 0.4094 - categorical_accuracy: 0.8583 - val_loss: 0.4269 - val_categorical_accuracy: 0.8503\n",
            "Epoch 11/40\n",
            "96/96 [==============================] - 0s 4ms/step - loss: 0.4043 - categorical_accuracy: 0.8590 - val_loss: 0.4088 - val_categorical_accuracy: 0.8553\n",
            "Epoch 12/40\n",
            "96/96 [==============================] - 0s 4ms/step - loss: 0.3934 - categorical_accuracy: 0.8631 - val_loss: 0.4328 - val_categorical_accuracy: 0.8452\n",
            "Epoch 13/40\n",
            "96/96 [==============================] - 0s 4ms/step - loss: 0.3845 - categorical_accuracy: 0.8673 - val_loss: 0.3987 - val_categorical_accuracy: 0.8594\n",
            "Epoch 14/40\n",
            "96/96 [==============================] - 0s 4ms/step - loss: 0.3814 - categorical_accuracy: 0.8675 - val_loss: 0.4082 - val_categorical_accuracy: 0.8583\n",
            "Epoch 15/40\n",
            "96/96 [==============================] - 1s 6ms/step - loss: 0.3779 - categorical_accuracy: 0.8695 - val_loss: 0.3857 - val_categorical_accuracy: 0.8629\n",
            "Epoch 16/40\n",
            "96/96 [==============================] - 1s 6ms/step - loss: 0.3708 - categorical_accuracy: 0.8700 - val_loss: 0.3955 - val_categorical_accuracy: 0.8645\n",
            "Epoch 17/40\n",
            "96/96 [==============================] - 1s 10ms/step - loss: 0.3663 - categorical_accuracy: 0.8717 - val_loss: 0.3835 - val_categorical_accuracy: 0.8651\n",
            "Epoch 18/40\n",
            "96/96 [==============================] - 1s 8ms/step - loss: 0.3565 - categorical_accuracy: 0.8756 - val_loss: 0.3881 - val_categorical_accuracy: 0.8658\n",
            "Epoch 19/40\n",
            "96/96 [==============================] - 1s 5ms/step - loss: 0.3574 - categorical_accuracy: 0.8746 - val_loss: 0.3751 - val_categorical_accuracy: 0.8682\n",
            "Epoch 20/40\n",
            "96/96 [==============================] - 0s 5ms/step - loss: 0.3481 - categorical_accuracy: 0.8771 - val_loss: 0.3750 - val_categorical_accuracy: 0.8687\n",
            "Epoch 21/40\n",
            "96/96 [==============================] - 0s 4ms/step - loss: 0.3459 - categorical_accuracy: 0.8788 - val_loss: 0.3762 - val_categorical_accuracy: 0.8652\n",
            "Epoch 22/40\n",
            "96/96 [==============================] - 0s 4ms/step - loss: 0.3432 - categorical_accuracy: 0.8791 - val_loss: 0.3620 - val_categorical_accuracy: 0.8732\n",
            "Epoch 23/40\n",
            "96/96 [==============================] - 0s 4ms/step - loss: 0.3392 - categorical_accuracy: 0.8801 - val_loss: 0.3682 - val_categorical_accuracy: 0.8719\n",
            "Epoch 24/40\n",
            "96/96 [==============================] - 0s 4ms/step - loss: 0.3354 - categorical_accuracy: 0.8814 - val_loss: 0.3795 - val_categorical_accuracy: 0.8628\n",
            "Epoch 25/40\n",
            "96/96 [==============================] - 0s 4ms/step - loss: 0.3312 - categorical_accuracy: 0.8839 - val_loss: 0.3599 - val_categorical_accuracy: 0.8743\n",
            "Epoch 26/40\n",
            "96/96 [==============================] - 0s 4ms/step - loss: 0.3266 - categorical_accuracy: 0.8853 - val_loss: 0.3695 - val_categorical_accuracy: 0.8666\n",
            "Epoch 27/40\n",
            "96/96 [==============================] - 0s 4ms/step - loss: 0.3240 - categorical_accuracy: 0.8848 - val_loss: 0.3540 - val_categorical_accuracy: 0.8732\n",
            "Epoch 28/40\n",
            "96/96 [==============================] - 1s 6ms/step - loss: 0.3190 - categorical_accuracy: 0.8882 - val_loss: 0.3646 - val_categorical_accuracy: 0.8680\n",
            "Epoch 29/40\n",
            "96/96 [==============================] - 0s 4ms/step - loss: 0.3175 - categorical_accuracy: 0.8881 - val_loss: 0.3626 - val_categorical_accuracy: 0.8727\n",
            "Epoch 30/40\n",
            "96/96 [==============================] - 1s 5ms/step - loss: 0.3150 - categorical_accuracy: 0.8882 - val_loss: 0.3457 - val_categorical_accuracy: 0.8783\n",
            "Epoch 31/40\n",
            "96/96 [==============================] - 0s 4ms/step - loss: 0.3112 - categorical_accuracy: 0.8899 - val_loss: 0.3624 - val_categorical_accuracy: 0.8713\n",
            "Epoch 32/40\n",
            "96/96 [==============================] - 0s 5ms/step - loss: 0.3104 - categorical_accuracy: 0.8904 - val_loss: 0.3550 - val_categorical_accuracy: 0.8738\n",
            "Epoch 33/40\n",
            "96/96 [==============================] - 0s 4ms/step - loss: 0.3063 - categorical_accuracy: 0.8926 - val_loss: 0.3440 - val_categorical_accuracy: 0.8771\n",
            "Epoch 34/40\n",
            "96/96 [==============================] - 0s 5ms/step - loss: 0.3058 - categorical_accuracy: 0.8923 - val_loss: 0.3522 - val_categorical_accuracy: 0.8767\n",
            "Epoch 35/40\n",
            "96/96 [==============================] - 0s 4ms/step - loss: 0.3010 - categorical_accuracy: 0.8931 - val_loss: 0.3488 - val_categorical_accuracy: 0.8766\n",
            "Epoch 36/40\n",
            "96/96 [==============================] - 0s 4ms/step - loss: 0.2980 - categorical_accuracy: 0.8946 - val_loss: 0.3458 - val_categorical_accuracy: 0.8761\n",
            "Epoch 37/40\n",
            "96/96 [==============================] - 0s 4ms/step - loss: 0.2965 - categorical_accuracy: 0.8949 - val_loss: 0.3422 - val_categorical_accuracy: 0.8792\n",
            "Epoch 38/40\n",
            "96/96 [==============================] - 0s 4ms/step - loss: 0.2984 - categorical_accuracy: 0.8937 - val_loss: 0.3500 - val_categorical_accuracy: 0.8768\n",
            "Epoch 39/40\n",
            "96/96 [==============================] - 0s 5ms/step - loss: 0.2931 - categorical_accuracy: 0.8961 - val_loss: 0.3414 - val_categorical_accuracy: 0.8789\n",
            "Epoch 40/40\n",
            "96/96 [==============================] - 1s 6ms/step - loss: 0.2895 - categorical_accuracy: 0.8973 - val_loss: 0.3499 - val_categorical_accuracy: 0.8737\n",
            "Epoch 1/40\n",
            "96/96 [==============================] - 1s 7ms/step - loss: 4.9006 - categorical_accuracy: 0.2800 - val_loss: 1.3974 - val_categorical_accuracy: 0.4142\n",
            "Epoch 2/40\n",
            "96/96 [==============================] - 0s 5ms/step - loss: 1.7265 - categorical_accuracy: 0.3526 - val_loss: 1.5472 - val_categorical_accuracy: 0.3711\n",
            "Epoch 3/40\n",
            "96/96 [==============================] - 0s 4ms/step - loss: 2.0716 - categorical_accuracy: 0.2709 - val_loss: 2.1401 - val_categorical_accuracy: 0.1640\n",
            "Epoch 4/40\n",
            "96/96 [==============================] - 0s 4ms/step - loss: 1.8207 - categorical_accuracy: 0.3029 - val_loss: 1.4771 - val_categorical_accuracy: 0.4421\n",
            "Epoch 5/40\n",
            "96/96 [==============================] - 0s 4ms/step - loss: 1.5537 - categorical_accuracy: 0.3932 - val_loss: 1.1608 - val_categorical_accuracy: 0.5462\n",
            "Epoch 6/40\n",
            "96/96 [==============================] - 0s 4ms/step - loss: 1.4874 - categorical_accuracy: 0.4240 - val_loss: 2.1083 - val_categorical_accuracy: 0.2605\n",
            "Epoch 7/40\n",
            "96/96 [==============================] - 0s 5ms/step - loss: 1.9215 - categorical_accuracy: 0.2905 - val_loss: 1.8284 - val_categorical_accuracy: 0.3257\n",
            "Epoch 8/40\n",
            "96/96 [==============================] - 0s 4ms/step - loss: 1.9608 - categorical_accuracy: 0.2792 - val_loss: 1.7409 - val_categorical_accuracy: 0.2419\n",
            "Epoch 9/40\n",
            "96/96 [==============================] - 0s 4ms/step - loss: 1.8313 - categorical_accuracy: 0.2731 - val_loss: 2.0012 - val_categorical_accuracy: 0.2602\n",
            "Epoch 10/40\n",
            "96/96 [==============================] - 0s 4ms/step - loss: 2.0565 - categorical_accuracy: 0.2215 - val_loss: 1.7297 - val_categorical_accuracy: 0.2935\n",
            "Epoch 11/40\n",
            "96/96 [==============================] - 0s 4ms/step - loss: 2.1038 - categorical_accuracy: 0.1990 - val_loss: 1.8878 - val_categorical_accuracy: 0.2226\n",
            "Epoch 12/40\n",
            "96/96 [==============================] - 0s 5ms/step - loss: 2.2257 - categorical_accuracy: 0.1519 - val_loss: 2.0101 - val_categorical_accuracy: 0.2290\n",
            "Epoch 13/40\n",
            "96/96 [==============================] - 1s 10ms/step - loss: 2.0293 - categorical_accuracy: 0.2315 - val_loss: 2.0296 - val_categorical_accuracy: 0.1989\n",
            "Epoch 14/40\n",
            "96/96 [==============================] - 1s 7ms/step - loss: 2.0762 - categorical_accuracy: 0.1984 - val_loss: 2.2683 - val_categorical_accuracy: 0.1034\n",
            "Epoch 15/40\n",
            "96/96 [==============================] - 1s 9ms/step - loss: 2.0494 - categorical_accuracy: 0.2004 - val_loss: 2.0697 - val_categorical_accuracy: 0.2087\n",
            "Epoch 16/40\n",
            "96/96 [==============================] - 1s 8ms/step - loss: 1.9407 - categorical_accuracy: 0.2563 - val_loss: 2.4805 - val_categorical_accuracy: 0.0959\n",
            "Epoch 17/40\n",
            "96/96 [==============================] - 1s 11ms/step - loss: 2.0385 - categorical_accuracy: 0.2162 - val_loss: 1.8698 - val_categorical_accuracy: 0.2597\n",
            "Epoch 18/40\n",
            "96/96 [==============================] - 1s 6ms/step - loss: 1.7737 - categorical_accuracy: 0.2873 - val_loss: 1.6600 - val_categorical_accuracy: 0.2693\n",
            "Epoch 19/40\n",
            "96/96 [==============================] - 1s 7ms/step - loss: 1.6324 - categorical_accuracy: 0.3040 - val_loss: 1.6039 - val_categorical_accuracy: 0.3454\n",
            "Epoch 20/40\n",
            "96/96 [==============================] - 1s 7ms/step - loss: 1.8099 - categorical_accuracy: 0.2878 - val_loss: 1.5957 - val_categorical_accuracy: 0.3158\n",
            "Epoch 21/40\n",
            "96/96 [==============================] - 0s 5ms/step - loss: 1.5624 - categorical_accuracy: 0.3371 - val_loss: 1.5541 - val_categorical_accuracy: 0.3383\n",
            "Epoch 22/40\n",
            "96/96 [==============================] - 0s 5ms/step - loss: 1.5276 - categorical_accuracy: 0.3511 - val_loss: 1.5012 - val_categorical_accuracy: 0.3553\n",
            "Epoch 23/40\n",
            "96/96 [==============================] - 0s 4ms/step - loss: 1.5027 - categorical_accuracy: 0.3609 - val_loss: 1.4950 - val_categorical_accuracy: 0.3577\n",
            "Epoch 24/40\n",
            "96/96 [==============================] - 0s 4ms/step - loss: 1.4864 - categorical_accuracy: 0.3644 - val_loss: 1.5199 - val_categorical_accuracy: 0.3474\n",
            "Epoch 25/40\n",
            "96/96 [==============================] - 0s 4ms/step - loss: 1.4464 - categorical_accuracy: 0.3794 - val_loss: 1.4825 - val_categorical_accuracy: 0.3573\n",
            "Epoch 26/40\n",
            "96/96 [==============================] - 0s 4ms/step - loss: 1.5910 - categorical_accuracy: 0.3660 - val_loss: 1.8751 - val_categorical_accuracy: 0.3133\n",
            "Epoch 27/40\n",
            "96/96 [==============================] - 0s 4ms/step - loss: 1.6369 - categorical_accuracy: 0.3665 - val_loss: 1.3205 - val_categorical_accuracy: 0.4158\n",
            "Epoch 28/40\n",
            "96/96 [==============================] - 0s 4ms/step - loss: 1.2880 - categorical_accuracy: 0.4573 - val_loss: 1.8554 - val_categorical_accuracy: 0.3475\n",
            "Epoch 29/40\n",
            "96/96 [==============================] - 1s 5ms/step - loss: 1.3333 - categorical_accuracy: 0.4469 - val_loss: 1.3462 - val_categorical_accuracy: 0.4322\n",
            "Epoch 30/40\n",
            "96/96 [==============================] - 0s 4ms/step - loss: 1.9649 - categorical_accuracy: 0.3102 - val_loss: 2.1033 - val_categorical_accuracy: 0.1899\n",
            "Epoch 31/40\n",
            "96/96 [==============================] - 0s 4ms/step - loss: 2.0062 - categorical_accuracy: 0.2390 - val_loss: 2.0761 - val_categorical_accuracy: 0.1813\n",
            "Epoch 32/40\n",
            "96/96 [==============================] - 0s 4ms/step - loss: 2.1787 - categorical_accuracy: 0.1710 - val_loss: 2.2146 - val_categorical_accuracy: 0.1626\n",
            "Epoch 33/40\n",
            "96/96 [==============================] - 0s 5ms/step - loss: 1.9806 - categorical_accuracy: 0.2360 - val_loss: 1.7717 - val_categorical_accuracy: 0.3085\n",
            "Epoch 34/40\n",
            "96/96 [==============================] - 0s 5ms/step - loss: 1.8012 - categorical_accuracy: 0.3001 - val_loss: 2.1916 - val_categorical_accuracy: 0.1422\n",
            "Epoch 35/40\n",
            "96/96 [==============================] - 0s 4ms/step - loss: 1.9968 - categorical_accuracy: 0.2087 - val_loss: 1.6822 - val_categorical_accuracy: 0.3512\n",
            "Epoch 36/40\n",
            "96/96 [==============================] - 0s 5ms/step - loss: 2.1201 - categorical_accuracy: 0.1776 - val_loss: 1.8828 - val_categorical_accuracy: 0.2125\n",
            "Epoch 37/40\n",
            "96/96 [==============================] - 0s 4ms/step - loss: 2.1979 - categorical_accuracy: 0.1489 - val_loss: 2.4895 - val_categorical_accuracy: 0.1966\n",
            "Epoch 38/40\n",
            "96/96 [==============================] - 0s 4ms/step - loss: 2.1769 - categorical_accuracy: 0.1643 - val_loss: 2.3268 - val_categorical_accuracy: 0.1053\n",
            "Epoch 39/40\n",
            "96/96 [==============================] - 0s 4ms/step - loss: 2.1785 - categorical_accuracy: 0.1602 - val_loss: 2.1307 - val_categorical_accuracy: 0.1805\n",
            "Epoch 40/40\n",
            "96/96 [==============================] - 1s 5ms/step - loss: 1.9832 - categorical_accuracy: 0.2390 - val_loss: 1.8479 - val_categorical_accuracy: 0.3072\n",
            "Epoch 1/40\n",
            "96/96 [==============================] - 1s 7ms/step - loss: 3267.7500 - categorical_accuracy: 0.1101 - val_loss: 2.3337 - val_categorical_accuracy: 0.1048\n",
            "Epoch 2/40\n",
            "96/96 [==============================] - 0s 4ms/step - loss: 2.5152 - categorical_accuracy: 0.1030 - val_loss: 2.3199 - val_categorical_accuracy: 0.1027\n",
            "Epoch 3/40\n",
            "96/96 [==============================] - 0s 5ms/step - loss: 4.8694 - categorical_accuracy: 0.1037 - val_loss: 2.3157 - val_categorical_accuracy: 0.1042\n",
            "Epoch 4/40\n",
            "96/96 [==============================] - 0s 4ms/step - loss: 3.4961 - categorical_accuracy: 0.1035 - val_loss: 2.3194 - val_categorical_accuracy: 0.1022\n",
            "Epoch 5/40\n",
            "96/96 [==============================] - 0s 4ms/step - loss: 2.4490 - categorical_accuracy: 0.1031 - val_loss: 2.3228 - val_categorical_accuracy: 0.1046\n",
            "Epoch 6/40\n",
            "96/96 [==============================] - 0s 4ms/step - loss: 2.3508 - categorical_accuracy: 0.1015 - val_loss: 2.3244 - val_categorical_accuracy: 0.0974\n",
            "Epoch 7/40\n",
            "96/96 [==============================] - 1s 9ms/step - loss: 2.3077 - categorical_accuracy: 0.1013 - val_loss: 2.3175 - val_categorical_accuracy: 0.1021\n",
            "Epoch 8/40\n",
            "96/96 [==============================] - 1s 7ms/step - loss: 3.0120 - categorical_accuracy: 0.1030 - val_loss: 2.3212 - val_categorical_accuracy: 0.1020\n",
            "Epoch 9/40\n",
            "96/96 [==============================] - 1s 6ms/step - loss: 2.6739 - categorical_accuracy: 0.1022 - val_loss: 2.3330 - val_categorical_accuracy: 0.1021\n",
            "Epoch 10/40\n",
            "96/96 [==============================] - 1s 5ms/step - loss: 2.3056 - categorical_accuracy: 0.1016 - val_loss: 2.3231 - val_categorical_accuracy: 0.1023\n",
            "Epoch 11/40\n",
            "96/96 [==============================] - 0s 4ms/step - loss: 2.3047 - categorical_accuracy: 0.1033 - val_loss: 2.3229 - val_categorical_accuracy: 0.1031\n",
            "Epoch 12/40\n",
            "96/96 [==============================] - 0s 4ms/step - loss: 2.4395 - categorical_accuracy: 0.1030 - val_loss: 2.3275 - val_categorical_accuracy: 0.1045\n",
            "Epoch 13/40\n",
            "96/96 [==============================] - 0s 5ms/step - loss: 2.5171 - categorical_accuracy: 0.1038 - val_loss: 2.3381 - val_categorical_accuracy: 0.1024\n",
            "Epoch 14/40\n",
            "96/96 [==============================] - 0s 4ms/step - loss: 2.3050 - categorical_accuracy: 0.1033 - val_loss: 2.3351 - val_categorical_accuracy: 0.1035\n",
            "Epoch 15/40\n",
            "96/96 [==============================] - 0s 5ms/step - loss: 2.3045 - categorical_accuracy: 0.1010 - val_loss: 2.3443 - val_categorical_accuracy: 0.1037\n",
            "Epoch 16/40\n",
            "96/96 [==============================] - 0s 5ms/step - loss: 2.3048 - categorical_accuracy: 0.1048 - val_loss: 2.3430 - val_categorical_accuracy: 0.1006\n",
            "Epoch 17/40\n",
            "96/96 [==============================] - 0s 5ms/step - loss: 2.3053 - categorical_accuracy: 0.1044 - val_loss: 2.3313 - val_categorical_accuracy: 0.1035\n",
            "Epoch 18/40\n",
            "96/96 [==============================] - 0s 5ms/step - loss: 2.3035 - categorical_accuracy: 0.1029 - val_loss: 2.3274 - val_categorical_accuracy: 0.1027\n",
            "Epoch 19/40\n",
            "96/96 [==============================] - 0s 4ms/step - loss: 2.3045 - categorical_accuracy: 0.1019 - val_loss: 2.3306 - val_categorical_accuracy: 0.0995\n",
            "Epoch 20/40\n",
            "96/96 [==============================] - 0s 5ms/step - loss: 2.3032 - categorical_accuracy: 0.1036 - val_loss: 2.3323 - val_categorical_accuracy: 0.0995\n",
            "Epoch 21/40\n",
            "96/96 [==============================] - 0s 4ms/step - loss: 2.3025 - categorical_accuracy: 0.1064 - val_loss: 2.3310 - val_categorical_accuracy: 0.1026\n",
            "Epoch 22/40\n",
            "96/96 [==============================] - 0s 5ms/step - loss: 2.3045 - categorical_accuracy: 0.1011 - val_loss: 2.3314 - val_categorical_accuracy: 0.1003\n",
            "Epoch 23/40\n",
            "96/96 [==============================] - 0s 5ms/step - loss: 2.3026 - categorical_accuracy: 0.1018 - val_loss: 2.3253 - val_categorical_accuracy: 0.1035\n",
            "Epoch 24/40\n",
            "96/96 [==============================] - 0s 5ms/step - loss: 2.3022 - categorical_accuracy: 0.1041 - val_loss: 2.3348 - val_categorical_accuracy: 0.1026\n",
            "Epoch 25/40\n",
            "96/96 [==============================] - 0s 4ms/step - loss: 2.3053 - categorical_accuracy: 0.1025 - val_loss: 2.3365 - val_categorical_accuracy: 0.1026\n",
            "Epoch 26/40\n",
            "96/96 [==============================] - 0s 4ms/step - loss: 2.3036 - categorical_accuracy: 0.1029 - val_loss: 2.3332 - val_categorical_accuracy: 0.1053\n",
            "Epoch 27/40\n",
            "96/96 [==============================] - 0s 5ms/step - loss: 2.3038 - categorical_accuracy: 0.1042 - val_loss: 2.3361 - val_categorical_accuracy: 0.1026\n",
            "Epoch 28/40\n",
            "96/96 [==============================] - 0s 5ms/step - loss: 2.3045 - categorical_accuracy: 0.1020 - val_loss: 2.3248 - val_categorical_accuracy: 0.1052\n",
            "Epoch 29/40\n",
            "96/96 [==============================] - 0s 4ms/step - loss: 2.3042 - categorical_accuracy: 0.1026 - val_loss: 2.3429 - val_categorical_accuracy: 0.0980\n",
            "Epoch 30/40\n",
            "96/96 [==============================] - 0s 4ms/step - loss: 2.3032 - categorical_accuracy: 0.1046 - val_loss: 2.3310 - val_categorical_accuracy: 0.1003\n",
            "Epoch 31/40\n",
            "96/96 [==============================] - 0s 5ms/step - loss: 2.3038 - categorical_accuracy: 0.1001 - val_loss: 2.3252 - val_categorical_accuracy: 0.1026\n",
            "Epoch 32/40\n",
            "96/96 [==============================] - 0s 4ms/step - loss: 2.3016 - categorical_accuracy: 0.1063 - val_loss: 2.3337 - val_categorical_accuracy: 0.1049\n",
            "Epoch 33/40\n",
            "96/96 [==============================] - 1s 7ms/step - loss: 2.3048 - categorical_accuracy: 0.1045 - val_loss: 2.3326 - val_categorical_accuracy: 0.0980\n",
            "Epoch 34/40\n",
            "96/96 [==============================] - 1s 6ms/step - loss: 2.3058 - categorical_accuracy: 0.1052 - val_loss: 2.3277 - val_categorical_accuracy: 0.0995\n",
            "Epoch 35/40\n",
            "96/96 [==============================] - 1s 7ms/step - loss: 2.3034 - categorical_accuracy: 0.1026 - val_loss: 2.3344 - val_categorical_accuracy: 0.1005\n",
            "Epoch 36/40\n",
            "96/96 [==============================] - 1s 6ms/step - loss: 2.3041 - categorical_accuracy: 0.1026 - val_loss: 2.3410 - val_categorical_accuracy: 0.1005\n",
            "Epoch 37/40\n",
            "96/96 [==============================] - 0s 4ms/step - loss: 2.3046 - categorical_accuracy: 0.1017 - val_loss: 2.3320 - val_categorical_accuracy: 0.1049\n",
            "Epoch 38/40\n",
            "96/96 [==============================] - 0s 4ms/step - loss: 2.3038 - categorical_accuracy: 0.1014 - val_loss: 2.3257 - val_categorical_accuracy: 0.1035\n",
            "Epoch 39/40\n",
            "96/96 [==============================] - 0s 5ms/step - loss: 2.3032 - categorical_accuracy: 0.1052 - val_loss: 2.3291 - val_categorical_accuracy: 0.1036\n",
            "Epoch 40/40\n",
            "96/96 [==============================] - 0s 5ms/step - loss: 2.3066 - categorical_accuracy: 0.1033 - val_loss: 2.3308 - val_categorical_accuracy: 0.1049\n"
          ]
        }
      ],
      "source": [
        "# Fix the number of nodes in the hidden layer to 500 and change the learning rate from 0.01 to 10. Plot the trained and validation network accuracy vs. learning rate.\n",
        "\n",
        "num_hidden_nodes_2 = 500\n",
        "learning_rate_2 = [x for x in range(0.01, 10, 0.1)]\n",
        "accuracy_2 = []\n",
        "\n",
        "for i in learning_rate_2:\n",
        "    model = create_model(num_hidden_nodes=num_hidden_nodes_2, learning_rate=i)\n",
        "    history = model.fit(input_train, output_train_class_onehot, \\\n",
        "                    batch_size=batch_size, \\\n",
        "                    epochs=max_epochs, \\\n",
        "                    validation_split=validtrain_split_ratio, \\\n",
        "                    shuffle=batch_shuffle)\n",
        "    accuracy_2.append(history.history['val_categorical_accuracy_2'][-1])\n"
      ]
    },
    {
      "cell_type": "code",
      "execution_count": null,
      "metadata": {
        "id": "MNkwOfw31Aj9",
        "outputId": "5f01834c-ea8b-47c3-ef12-962db6d39e47",
        "colab": {
          "base_uri": "https://localhost:8080/",
          "height": 299
        }
      },
      "outputs": [
        {
          "output_type": "display_data",
          "data": {
            "text/plain": [
              "<Figure size 432x288 with 1 Axes>"
            ],
            "image/png": "[encoded data removed]"
          },
          "metadata": {
            "needs_background": "light"
          }
        }
      ],
      "source": [
        "plt.plot(learning_rate_2, accuracy_2)\n",
        "plt.title('Model accuracy_2 metric : ' + metrics[0])\n",
        "plt.ylabel('Accuracy_2 metric')\n",
        "plt.xlabel('Learning rate 2')\n",
        "plt.legend(['Validation'], loc='best')\n",
        "plt.xscale('log')\n",
        "plt.show()"
      ]
    },
    {
      "cell_type": "code",
      "source": [],
      "metadata": {
        "id": "WOLoDNHz23nc"
      },
      "execution_count": null,
      "outputs": []
    }
  ],
  "metadata": {
    "accelerator": "GPU",
    "colab": {
      "collapsed_sections": [
        "xsMY2VZgywF8"
      ],
      "provenance": [],
      "toc_visible": true
    },
    "gpuClass": "standard",
    "kernelspec": {
      "display_name": "Python 3",
      "language": "python",
      "name": "python3"
    },
    "language_info": {
      "codemirror_mode": {
        "name": "ipython",
        "version": 3
      },
      "file_extension": ".py",
      "mimetype": "text/x-python",
      "name": "python",
      "nbconvert_exporter": "python",
      "pygments_lexer": "ipython3",
      "version": "3.9.13"
    }
  },
  "nbformat": 4,
  "nbformat_minor": 0
}